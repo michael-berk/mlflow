{
 "cells": [
  {
   "cell_type": "markdown",
   "metadata": {
    "application/vnd.databricks.v1+cell": {
     "cellMetadata": {
      "byteLimit": 2048000,
      "rowLimit": 10000
     },
     "inputWidgets": {},
     "nuid": "fa602d14-6372-4e0a-92d8-6f7db048c3b8",
     "showTitle": false,
     "title": ""
    }
   },
   "source": [
    "[DSPy](https://dspy-docs.vercel.app/) simplifies building language model (LM) pipelines by replacing manual prompt engineering with structured \"text transformation graphs.\" These graphs use flexible, learning modules that automate and optimize LM tasks like reasoning, retrieval, and answering complex questions. \n",
    "\n",
    "### How does it work?\n",
    "At a high level, DSPy optimizes prompts, selects the best language model, and can even fine-tune the model using training data.\n",
    "\n",
    "The process follows these three steps, common to most DSPy [optimizers](https://dspy-docs.vercel.app/docs/building-blocks/optimizers):\n",
    "\n",
    "1. **Candidate Generation**: DSPy finds all `Predict` modules in the program and generates variations of instructions and demonstrations (e.g., examples for prompts). This step creates a set of possible candidates for the next stage.\n",
    "2. **Parameter Optimization**: DSPy then uses methods like random search, TPE, or Optuna to select the best configurations. Fine-tuning models can also be done at this stage.\n",
    "3. **Higher-Order Optimization**: Lastly, DSPy can modify the program's structure, such as creating ensembles of different variations of the program to boost performance.\n",
    "\n",
    "### This Demo\n",
    "Below we create a simple program that demonstrates the power of DSPy. We will build a text classifier leveraging OpenAI. By the end of this tutorial, we will...\n",
    "\n",
    "1. Define a [dspy.Signature](https://dspy-docs.vercel.app/docs/building-blocks/signatures) and [dspy.Module](https://dspy-docs.vercel.app/docs/building-blocks/modules) to perform text classification.\n",
    "2. Leverage [dspy.teleprompt.BootstrapFewShotWithRandomSearch](https://dspy-docs.vercel.app/api/optimizers/BootstrapFewShotWithRandomSearch) to compile our module so it's better at classifying our text.\n",
    "3. Log the compiled model with MLflow.\n",
    "4. Load the compiled model with MLflow and perform inference."
   ]
  },
  {
   "cell_type": "code",
   "execution_count": 1,
   "metadata": {
    "application/vnd.databricks.v1+cell": {
     "cellMetadata": {
      "byteLimit": 2048000,
      "rowLimit": 10000
     },
     "inputWidgets": {},
     "nuid": "58918566-6e93-4a2e-9a34-b0f56378885a",
     "showTitle": false,
     "title": ""
    }
   },
   "outputs": [
    {
     "name": "stdout",
     "output_type": "stream",
     "text": [
      "zsh:1: 0.2.5 not found\n",
      "Note: you may need to restart the kernel to use updated packages.\n"
     ]
    }
   ],
   "source": [
    "%pip install -U openai dspy-ai>=0.2.5 mlflow>=2.17.0"
   ]
  },
  {
   "cell_type": "markdown",
   "metadata": {
    "application/vnd.databricks.v1+cell": {
     "cellMetadata": {
      "byteLimit": 2048000,
      "rowLimit": 10000
     },
     "inputWidgets": {},
     "nuid": "7bd9e460-4c9c-4508-8801-6f29fcf2c8d2",
     "showTitle": false,
     "title": ""
    }
   },
   "source": [
    "# 0 - Setup\n"
   ]
  },
  {
   "cell_type": "markdown",
   "metadata": {
    "application/vnd.databricks.v1+cell": {
     "cellMetadata": {
      "byteLimit": 2048000,
      "rowLimit": 10000
     },
     "inputWidgets": {},
     "nuid": "c27ec364-1195-447d-a9d5-f38defa6652e",
     "showTitle": false,
     "title": ""
    }
   },
   "source": [
    "## 0.1 - Set Up LLM\n",
    "\n",
    "After installing the relevant dependencies, let's leverage a Databricks foundational model serving endpoint as our LLM of choice. Here, will leverage the open source Meta Llama 3.1 70B LLM."
   ]
  },
  {
   "cell_type": "code",
   "execution_count": 6,
   "metadata": {
    "application/vnd.databricks.v1+cell": {
     "cellMetadata": {
      "byteLimit": 2048000,
      "rowLimit": 10000
     },
     "inputWidgets": {},
     "nuid": "3232fb03-f4be-490f-9179-0f2b71129196",
     "showTitle": false,
     "title": ""
    }
   },
   "outputs": [],
   "source": [
    "import dspy\n",
    "\n",
    "# Define your model. We will use OpenAI for simplicity\n",
    "model_name = \"gpt-4o-mini\"\n",
    "\n",
    "# Leverage default authentication inside the Databricks context (notebooks, workflows, etc.)\n",
    "# Note that an OPENAI_API_KEY environment must be present. You can also pass the token to dspy.LM()\n",
    "lm = dspy.LM(\n",
    "    model=f\"openai/{model_name}\",\n",
    "    max_tokens=500,\n",
    "    temperature=0.1,\n",
    ")\n",
    "dspy.settings.configure(lm=lm)"
   ]
  },
  {
   "cell_type": "markdown",
   "metadata": {
    "application/vnd.databricks.v1+cell": {
     "cellMetadata": {
      "byteLimit": 2048000,
      "rowLimit": 10000
     },
     "inputWidgets": {},
     "nuid": "e3fde40f-650a-4090-9791-120dd954cd36",
     "showTitle": false,
     "title": ""
    }
   },
   "source": [
    "## 0.2 - Set Up Data\n",
    "\n",
    "Next, we will download the [Reuters 21578](https://huggingface.co/datasets/yangwang825/reuters-21578) dataset from Huggingface. We also write a utility to ensure that our train/test split has the same labels."
   ]
  },
  {
   "cell_type": "code",
   "execution_count": 7,
   "metadata": {
    "application/vnd.databricks.v1+cell": {
     "cellMetadata": {
      "byteLimit": 2048000,
      "rowLimit": 10000
     },
     "inputWidgets": {},
     "nuid": "dd53a405-1685-4e2f-86c5-8f3f570828c1",
     "showTitle": false,
     "title": ""
    }
   },
   "outputs": [
    {
     "name": "stdout",
     "output_type": "stream",
     "text": [
      "24 8\n",
      "Train labels: {'earn', 'ship', 'money-fx', 'crude', 'interest', 'trade', 'acq', 'grain'}\n",
      "Example({'label': 'interest', 'text': 'bankers trust co raises broker loan rate bankers trust co said it raised its broker loan rate to pct from seven pct effective immediately u s trust co which also quotes its broker loan rate publicly is posting a pct rate reuter'}) (input_keys={'text'})\n"
     ]
    }
   ],
   "source": [
    "import numpy as np\n",
    "import pandas as pd\n",
    "from dspy.datasets.dataset import Dataset\n",
    "\n",
    "\n",
    "def read_data_and_subset_to_categories() -> tuple[pd.DataFrame]:\n",
    "    \"\"\"\n",
    "    Read the reuters-21578 dataset. Docs can be found in the url below:\n",
    "    https://huggingface.co/datasets/yangwang825/reuters-21578\n",
    "    \"\"\"\n",
    "\n",
    "    # Read train/test split\n",
    "    file_path = \"hf://datasets/yangwang825/reuters-21578/{}.json\"\n",
    "    train = pd.read_json(file_path.format(\"train\"))\n",
    "    test = pd.read_json(file_path.format(\"test\"))\n",
    "\n",
    "    # Clean the labels\n",
    "    label_map = {\n",
    "        0: \"acq\",\n",
    "        1: \"crude\",\n",
    "        2: \"earn\",\n",
    "        3: \"grain\",\n",
    "        4: \"interest\",\n",
    "        5: \"money-fx\",\n",
    "        6: \"ship\",\n",
    "        7: \"trade\",\n",
    "    }\n",
    "\n",
    "    train[\"label\"] = train[\"label\"].map(label_map)\n",
    "    test[\"label\"] = test[\"label\"].map(label_map)\n",
    "\n",
    "    return train, test\n",
    "\n",
    "\n",
    "class CSVDataset(Dataset):\n",
    "    def __init__(\n",
    "        self, n_train_per_label: int = 20, n_test_per_label: int = 10, *args, **kwargs\n",
    "    ) -> None:\n",
    "        super().__init__(*args, **kwargs)\n",
    "        self.n_train_per_label = n_train_per_label\n",
    "        self.n_test_per_label = n_test_per_label\n",
    "\n",
    "        self._create_train_test_split_and_ensure_labels()\n",
    "\n",
    "    def _create_train_test_split_and_ensure_labels(self) -> None:\n",
    "        \"\"\"Perform a train/test split that ensure labels in `dev` are also in `train`.\"\"\"\n",
    "        # Read the data\n",
    "        train_df, test_df = read_data_and_subset_to_categories()\n",
    "\n",
    "        # Sample for each label\n",
    "        train_samples_df = pd.concat(\n",
    "            [group.sample(n=self.n_train_per_label) for _, group in train_df.groupby(\"label\")]\n",
    "        )\n",
    "        test_samples_df = pd.concat(\n",
    "            [group.sample(n=self.n_test_per_label) for _, group in test_df.groupby(\"label\")]\n",
    "        )\n",
    "\n",
    "        # Set DSPy class variables\n",
    "        self._train = train_samples_df.to_dict(orient=\"records\")\n",
    "        self._dev = test_samples_df.to_dict(orient=\"records\")\n",
    "\n",
    "\n",
    "# Limit to a small dataset to showcase the value of bootstrapping\n",
    "dataset = CSVDataset(n_train_per_label=3, n_test_per_label=1)\n",
    "\n",
    "# Create train and test sets containing DSPy\n",
    "# Note that we must specify the expected input value name\n",
    "train_dataset = [example.with_inputs(\"text\") for example in dataset.train]\n",
    "test_dataset = [example.with_inputs(\"text\") for example in dataset.dev]\n",
    "\n",
    "print(len(train_dataset), len(test_dataset))\n",
    "print(\"Train labels: {example.label for example in dataset.train}\")\n",
    "print(train_dataset[0])"
   ]
  },
  {
   "cell_type": "markdown",
   "metadata": {
    "application/vnd.databricks.v1+cell": {
     "cellMetadata": {
      "byteLimit": 2048000,
      "rowLimit": 10000
     },
     "inputWidgets": {},
     "nuid": "4a683b83-6acc-4fdf-846f-bd81cadda53b",
     "showTitle": false,
     "title": ""
    }
   },
   "source": [
    "## 0.3 - Set up DSPy Signature and Module\n",
    "\n",
    "Finally, we will define our task: text classification.\n",
    "\n",
    "There are a variety of ways you can provide guidelines to DSPy signature behavior. Currently, DSPy allows users to specify:\n",
    "\n",
    "1. A high-level goal via the class docstring.\n",
    "2. A set of input fields, with optional metadata.\n",
    "3. A set of output fields with optional metadata.\n",
    "\n",
    "DSPy will then leverage this information to inform optimization. \n",
    "\n",
    "In the below example, note that we **do not** provide any information in our `TextClassificationSignature` class about the dataset of interest. We are effectively leveraging a base LLM instructed to classify text with no context. From this blank slate, we'll look to use DSPy to learn to classify via training alone.\n",
    "\n",
    "Note that in production, you should provide metadata in the signature to reduce train time. This secenario is just for demonstration purposes."
   ]
  },
  {
   "cell_type": "code",
   "execution_count": 8,
   "metadata": {
    "application/vnd.databricks.v1+cell": {
     "cellMetadata": {
      "byteLimit": 2048000,
      "rowLimit": 10000
     },
     "inputWidgets": {},
     "nuid": "d0743c63-c679-4114-b7b1-bed4aeb918cd",
     "showTitle": false,
     "title": ""
    }
   },
   "outputs": [],
   "source": [
    "class TextClassificationSignature(dspy.Signature):\n",
    "    text = dspy.InputField()\n",
    "    label = dspy.OutputField(desc=\"Label of predicted_class\")\n",
    "\n",
    "\n",
    "class TextClassifier(dspy.Module):\n",
    "    def __init__(self):\n",
    "        super().__init__()\n",
    "        self.generate_classification = dspy.Predict(TextClassificationSignature)\n",
    "\n",
    "    def forward(self, text: str):\n",
    "        return self.generate_classification(text=text)"
   ]
  },
  {
   "cell_type": "markdown",
   "metadata": {
    "application/vnd.databricks.v1+cell": {
     "cellMetadata": {
      "byteLimit": 2048000,
      "rowLimit": 10000
     },
     "inputWidgets": {},
     "nuid": "0d93df5c-25d7-460d-a803-0e5469f3bbad",
     "showTitle": false,
     "title": ""
    }
   },
   "source": [
    "# 1 - Run it!"
   ]
  },
  {
   "cell_type": "markdown",
   "metadata": {
    "application/vnd.databricks.v1+cell": {
     "cellMetadata": {
      "byteLimit": 2048000,
      "rowLimit": 10000
     },
     "inputWidgets": {},
     "nuid": "c89741fa-2698-4409-b290-f5f5652f7d66",
     "showTitle": false,
     "title": ""
    }
   },
   "source": [
    "## 1.1 - Hello World\n",
    "Let's demonstrate predicting via the DSPy module and associated signature. As expected, the program incorrectly classifies our text because it has not been given the labels."
   ]
  },
  {
   "cell_type": "code",
   "execution_count": 9,
   "metadata": {
    "application/vnd.databricks.v1+cell": {
     "cellMetadata": {
      "byteLimit": 2048000,
      "rowLimit": 10000
     },
     "inputWidgets": {},
     "nuid": "d4da1ad9-7173-4d1b-ab53-346e9c49fbbf",
     "showTitle": false,
     "title": ""
    }
   },
   "outputs": [
    {
     "name": "stdout",
     "output_type": "stream",
     "text": [
      "Prediction(\n",
      "    label='space exploration'\n",
      ")\n",
      "Prediction(\n",
      "    label='hobby'\n",
      ")\n"
     ]
    }
   ],
   "source": [
    "from copy import copy\n",
    "\n",
    "# Initilize our impact_improvement class\n",
    "text_classifier = copy(TextClassifier())\n",
    "\n",
    "message = \"I am interested in space\"\n",
    "print(text_classifier(text=message))\n",
    "\n",
    "message = \"I enjoy ice skating\"\n",
    "print(text_classifier(text=message))"
   ]
  },
  {
   "cell_type": "markdown",
   "metadata": {
    "application/vnd.databricks.v1+cell": {
     "cellMetadata": {
      "byteLimit": 2048000,
      "rowLimit": 10000
     },
     "inputWidgets": {},
     "nuid": "b064a99e-027a-4854-873b-5347d901de46",
     "showTitle": false,
     "title": ""
    }
   },
   "source": [
    "# 2 - Compilation\n",
    "\n"
   ]
  },
  {
   "cell_type": "markdown",
   "metadata": {
    "application/vnd.databricks.v1+cell": {
     "cellMetadata": {
      "byteLimit": 2048000,
      "rowLimit": 10000
     },
     "inputWidgets": {},
     "nuid": "5a82d466-40f7-411a-a029-dcadb4629391",
     "showTitle": false,
     "title": ""
    }
   },
   "source": [
    "## 2.1 - Training\n",
    "\n",
    "To train, we will leverage [BootstrapFewShotWithRandomSearch](https://dspy-docs.vercel.app/api/optimizers/BootstrapFewShotWithRandomSearch), an optimizer that will take bootstrap samples from our training set and leverage a random search strategy to optimize our predictive accuracy.\n",
    "\n",
    "Note that in the below example, we leverage a simple metric definition of exact match, as defined in `validate_classification`, but [dspy.Metrics](https://dspy-docs.vercel.app/docs/building-blocks/metrics) can contain complex and LM-based logic to properly evaluate our accuracy."
   ]
  },
  {
   "cell_type": "code",
   "execution_count": 10,
   "metadata": {
    "application/vnd.databricks.v1+cell": {
     "cellMetadata": {
      "byteLimit": 2048000,
      "rowLimit": 10000
     },
     "inputWidgets": {},
     "nuid": "f7d41f13-ef79-45bf-90fa-2abee39c35ff",
     "showTitle": false,
     "title": ""
    }
   },
   "outputs": [
    {
     "name": "stdout",
     "output_type": "stream",
     "text": [
      "Going to sample between 1 and 2 traces per predictor.\n",
      "Will attempt to bootstrap 5 candidate sets.\n",
      "Average Metric: 0 / 24  (0.0): 100%|██████████| 24/24 [00:21<00:00,  1.10it/s]\n",
      "New best score: 0.0 for seed -3\n",
      "Scores so far: [0.0]\n",
      "Best score so far: 0.0\n",
      "Average Metric: 21 / 24  (87.5): 100%|██████████| 24/24 [00:23<00:00,  1.04it/s]\n",
      "New best score: 87.5 for seed -2\n",
      "Scores so far: [0.0, 87.5]\n",
      "Best score so far: 87.5\n"
     ]
    },
    {
     "name": "stderr",
     "output_type": "stream",
     "text": [
      " 12%|█▎        | 3/24 [00:01<00:12,  1.68it/s]\n"
     ]
    },
    {
     "name": "stdout",
     "output_type": "stream",
     "text": [
      "Bootstrapped 2 full traces after 4 examples in round 0.\n",
      "Average Metric: 23 / 24  (95.8): 100%|██████████| 24/24 [00:20<00:00,  1.19it/s]\n",
      "New best score: 95.83 for seed -1\n",
      "Scores so far: [0.0, 87.5, 95.83]\n",
      "Best score so far: 95.83\n"
     ]
    },
    {
     "name": "stderr",
     "output_type": "stream",
     "text": [
      " 12%|█▎        | 3/24 [00:02<00:17,  1.20it/s]\n"
     ]
    },
    {
     "name": "stdout",
     "output_type": "stream",
     "text": [
      "Bootstrapped 2 full traces after 4 examples in round 0.\n",
      "Average Metric: 21 / 24  (87.5): 100%|██████████| 24/24 [00:21<00:00,  1.10it/s]\n",
      "Scores so far: [0.0, 87.5, 95.83, 87.5]\n",
      "Best score so far: 95.83\n"
     ]
    },
    {
     "name": "stderr",
     "output_type": "stream",
     "text": [
      "  4%|▍         | 1/24 [00:01<00:24,  1.05s/it]\n"
     ]
    },
    {
     "name": "stdout",
     "output_type": "stream",
     "text": [
      "Bootstrapped 1 full traces after 2 examples in round 0.\n",
      "Average Metric: 22 / 24  (91.7): 100%|██████████| 24/24 [00:23<00:00,  1.01it/s]\n",
      "Scores so far: [0.0, 87.5, 95.83, 87.5, 91.67]\n",
      "Best score so far: 95.83\n"
     ]
    },
    {
     "name": "stderr",
     "output_type": "stream",
     "text": [
      "  4%|▍         | 1/24 [00:01<00:24,  1.07s/it]\n"
     ]
    },
    {
     "name": "stdout",
     "output_type": "stream",
     "text": [
      "Bootstrapped 1 full traces after 2 examples in round 0.\n",
      "Average Metric: 21 / 24  (87.5): 100%|██████████| 24/24 [00:28<00:00,  1.21s/it]\n",
      "Scores so far: [0.0, 87.5, 95.83, 87.5, 91.67, 87.5]\n",
      "Best score so far: 95.83\n"
     ]
    },
    {
     "name": "stderr",
     "output_type": "stream",
     "text": [
      "  4%|▍         | 1/24 [00:01<00:24,  1.08s/it]\n"
     ]
    },
    {
     "name": "stdout",
     "output_type": "stream",
     "text": [
      "Bootstrapped 1 full traces after 2 examples in round 0.\n",
      "Average Metric: 19 / 24  (79.2): 100%|██████████| 24/24 [00:23<00:00,  1.03it/s]\n",
      "Scores so far: [0.0, 87.5, 95.83, 87.5, 91.67, 87.5, 79.17]\n",
      "Best score so far: 95.83\n"
     ]
    },
    {
     "name": "stderr",
     "output_type": "stream",
     "text": [
      "  8%|▊         | 2/24 [00:03<00:35,  1.60s/it]\n"
     ]
    },
    {
     "name": "stdout",
     "output_type": "stream",
     "text": [
      "Bootstrapped 1 full traces after 3 examples in round 0.\n",
      "Average Metric: 23 / 24  (95.8): 100%|██████████| 24/24 [00:22<00:00,  1.06it/s] \n",
      "Scores so far: [0.0, 87.5, 95.83, 87.5, 91.67, 87.5, 79.17, 95.83]\n",
      "Best score so far: 95.83\n",
      "8 candidate programs found.\n"
     ]
    }
   ],
   "source": [
    "from dspy.teleprompt import BootstrapFewShotWithRandomSearch\n",
    "\n",
    "\n",
    "def validate_classification(example, prediction, trace=None) -> bool:\n",
    "    return example.label == prediction.label\n",
    "\n",
    "\n",
    "optimizer = BootstrapFewShotWithRandomSearch(\n",
    "    metric=validate_classification,\n",
    "    num_candidate_programs=5,\n",
    "    max_bootstrapped_demos=2,\n",
    "    num_threads=1,\n",
    ")\n",
    "\n",
    "compiled_pe = optimizer.compile(copy(TextClassifier()), trainset=train_dataset)"
   ]
  },
  {
   "cell_type": "markdown",
   "metadata": {
    "application/vnd.databricks.v1+cell": {
     "cellMetadata": {
      "byteLimit": 2048000,
      "rowLimit": 10000
     },
     "inputWidgets": {},
     "nuid": "bee03ee2-ca1f-492a-8a6f-0de2f27e6fe4",
     "showTitle": false,
     "title": ""
    }
   },
   "source": [
    "Parsing the path that DSPy training returns can be challenging, however there are a few APIs exposed. Below we show a way to print a formatted and color-coded message history for `n` number of messages.\n"
   ]
  },
  {
   "cell_type": "code",
   "execution_count": 11,
   "metadata": {
    "application/vnd.databricks.v1+cell": {
     "cellMetadata": {
      "byteLimit": 2048000,
      "rowLimit": 10000
     },
     "inputWidgets": {},
     "nuid": "a4b27bf1-c952-4b66-a1e4-7af0fe68aca6",
     "showTitle": false,
     "title": ""
    }
   },
   "outputs": [
    {
     "name": "stdout",
     "output_type": "stream",
     "text": [
      "\n",
      "\n",
      "\n",
      "\n",
      "\u001b[34m[2024-10-09T13:11:06.267982]\u001b[0m\n",
      "\n",
      "\u001b[31mSystem message:\u001b[0m\n",
      "\n",
      "Your input fields are:\n",
      "1. `text` (str)\n",
      "\n",
      "Your output fields are:\n",
      "1. `label` (str): Label of predicted_class\n",
      "\n",
      "All interactions will be structured in the following way, with the appropriate values filled in.\n",
      "\n",
      "[[ ## text ## ]]\n",
      "{text}\n",
      "\n",
      "[[ ## label ## ]]\n",
      "{label}\n",
      "\n",
      "[[ ## completed ## ]]\n",
      "\n",
      "In adhering to this structure, your objective is: \n",
      "        Given the fields `text`, produce the fields `label`.\n",
      "\n",
      "\n",
      "\u001b[31mUser message:\u001b[0m\n",
      "\n",
      "[[ ## text ## ]]\n",
      "princeville pvdc to sell its air operation princeville development corp and aloha inc parent of aloha airlines inc jointly said they agreed to terms for the sale of princeville airways inc to aloha terms of the agreement were not disclosed under the proposed sale the companies said aloha would acquire the entire princeville airways commuter operation and access to the princeville airport on the island of kauai they said princeville airways is expected to operate as a subsidiary of aloha inc and will continue to use the princeville aiways name reuter\n",
      "\n",
      "Respond with the corresponding output fields, starting with the field `label`, and then ending with the marker for `completed`.\n",
      "\n",
      "\n",
      "\u001b[31mAssistant message:\u001b[0m\n",
      "\n",
      "[[ ## label ## ]]\n",
      "acq\n",
      "\n",
      "[[ ## completed ## ]]\n",
      "\n",
      "\n",
      "\u001b[31mUser message:\u001b[0m\n",
      "\n",
      "[[ ## text ## ]]\n",
      "servo corp of america sca st qtr jan net shr cts vs cts net vs sales vs reuter\n",
      "\n",
      "Respond with the corresponding output fields, starting with the field `label`, and then ending with the marker for `completed`.\n",
      "\n",
      "\n",
      "\u001b[31mAssistant message:\u001b[0m\n",
      "\n",
      "[[ ## label ## ]]\n",
      "earn\n",
      "\n",
      "[[ ## completed ## ]]\n",
      "\n",
      "\n",
      "\u001b[31mUser message:\u001b[0m\n",
      "\n",
      "[[ ## text ## ]]\n",
      "adm grain elevator explodes in burlington iowa a grain elevator in burlington iowa exploded today leaving five injured the elevator operated by archer daniels midland co of decatur ill is a terminal elevator on the mississippi river doug snyder assistant to the vice president said the cause of the explosion and the extent of damage to the elevator was not immediatley known reuter\n",
      "\n",
      "Respond with the corresponding output fields, starting with the field `label`, and then ending with the marker for `completed`.\n",
      "\n",
      "\n",
      "\u001b[31mAssistant message:\u001b[0m\n",
      "\n",
      "[[ ## label ## ]]\n",
      "grain\n",
      "\n",
      "[[ ## completed ## ]]\n",
      "\n",
      "\n",
      "\u001b[31mUser message:\u001b[0m\n",
      "\n",
      "[[ ## text ## ]]\n",
      "economic spotlight saudi arabia reshapes economy higher world oil prices coupled with a new realism ushered in by austerity could lift saudi arabia s economy after five years of falling revenue and growing budget deficits bankers and diplomats said the months ahead will prove critical as the government attempts a balancing act between defending higher oil prices and fostering recovery through a bigger role for the private sector economists said oil earnings could recover this year to about billion dlrs and nominal gross domestic product could grow by about three pct the first rise since but the economists said this will be possible only if the organisation of petroleum exporting countries opec succeeds in defending world oil prices and if saudi arabia is not forced to curtail output for too long saudi arabia is now keeping production down to defend opec s newly established dlr a barrel benchmark price oil minister hisham nazer told reuters output is running at about three mln barrels per day bpd well down on saudi arabia s opec quota of mln set for the first half of king fahd has stamped his personal authority on opec s new found determination to defend prices in a move western diplomats believe underlines the kingdom s need to secure a stable source of income for its economy saudi arabia still the world s largest oil exporter is a hugely wealthy country but the past five years of declining revenue have taken their toll economists estimate gross domestic product fell pct last year and pct in oil revenue last year when prices briefly dipped below dlrs per barrel probably totalled no more than billion dlrs compared to a peak billion in austerity is still the watchword but saudi arabia will not be allowed to dip further into recession the saudis can afford to draw down reserves temporarily to offset the worst effects a diplomat said in the short term the kingdom can lessen the impact of lower oil revenues and a gaping budget deficit by drawing on foreign reserves still put at around billion dlrs but such a policy cannot be pursued indefinitely bankers and diplomats said it would amount to fiscal recklessness in the longer term it also increases the dominance of the public sector at a time when the government is publicly urging private enterprise to take over the lead role in the economy bankers and diplomats said the government is well aware of the risks attached to this policy but is determined to tough it out on the oil front even if that means a short term depletion of reserves the budget deficit is targetted at a huge billion riyals or pct of total outlay the budget explicitly recognises the need to draw down reserves while foreign borrowing has been ruled out commerce minister suleiman abdulaziz al salim told saudi businessmen this week the government had carefully considered the need to stimulate the economy when drawing up its budget plans late last year it therefore took the bold step of withdrawing more than billion riyals from its reserves and pumping it into the economy he said reserves were built up during the late s and early s when saudi arabia s breakneck pace of construction and tales of high spending became legendary the shrinking economy has wrought huge changes in the fabric of the kingdom s private sector where poor management had gone unpunished in the easy days of the oil boom modern techniques of cost control have been introduced markets expanded and outsized labour forces and inventories cut back the expatriate workforce has fallen sharply the number of new bankruptcies appears to be declining but saudi banks hit hard by non performing loans to the corporate sector have become highly selective in extending new credit government moves to encourage lending and investigate company complaints about late public sector contract payments could boost confidence but recession has slowed the nation s industrialisation program and discouraged foreign investment private wealth is still very high and banks report more and more cash being placed on deposit as saudi arabia attempts to shift the weight of economic development from the public to the private sector one of the biggest tasks will be to convince businessmen to channel personal savings into industrial projects within the kingdom and refrain from the temptation to invest abroad reuter\n",
      "\n",
      "Respond with the corresponding output fields, starting with the field `label`, and then ending with the marker for `completed`.\n",
      "\n",
      "\n",
      "\u001b[31mAssistant message:\u001b[0m\n",
      "\n",
      "[[ ## label ## ]]\n",
      "crude\n",
      "\n",
      "[[ ## completed ## ]]\n",
      "\n",
      "\n",
      "\u001b[31mUser message:\u001b[0m\n",
      "\n",
      "[[ ## text ## ]]\n",
      "odyssey filmpartners odyy drops merger talks odyssey filmpartners ltd said is terminated discussions to acquire united color labs pursuant to a jan letter of intent for it to buy the company for stock and cash reuter\n",
      "\n",
      "Respond with the corresponding output fields, starting with the field `label`, and then ending with the marker for `completed`.\n",
      "\n",
      "\n",
      "\u001b[31mAssistant message:\u001b[0m\n",
      "\n",
      "[[ ## label ## ]]\n",
      "acq\n",
      "\n",
      "[[ ## completed ## ]]\n",
      "\n",
      "\n",
      "\u001b[31mUser message:\u001b[0m\n",
      "\n",
      "[[ ## text ## ]]\n",
      "australian minister says agriculture gatt priority australian trade minister john dawkins said if the general agreement on tariffs and trade gatt does not give high priority to agricultural trade reform it will be neglecting the area of greatest crisis in a statement to the informal gatt trade ministers conference here he said agriculture is a problem which involves all countries and seriously affects the debt servicing abilities of a number of developing countries he said major countries should be showing leadership on this problem we will be giving close attention to the processes in the oecd organisation of economic cooperation and development and elsewhere leading to the venice economic summit where we will be looking to the participants to adopt a strong commitment to agricultural trade reform dawkins said the venice summit is scheduled for june he said australia s interests in the uruguay round the eighth under the gatt are wide ranging dawkins said he sees the round as providing a timely opportunity to secure further meaningful trade liberalisation in all sectors and to restore confidence in the multilateral system dawkins said initial meetings of the negotiating groups established in geneva after the gatt declaration last september in punta del este uruguay have made a reasonable start but it is vital that trade ministers maintain the pressure on these processes we must see that the commitments made at punta del este on standstill and rollback are carried into practice the standstill and rollback of protection offers the global trading system a chance to hold and wind back protection during the negotiations which are expected to last up to four years he said reuter\n",
      "\n",
      "Respond with the corresponding output fields, starting with the field `label`, and then ending with the marker for `completed`.\n",
      "\n",
      "\n",
      "\u001b[31mAssistant message:\u001b[0m\n",
      "\n",
      "[[ ## label ## ]]\n",
      "trade\n",
      "\n",
      "[[ ## completed ## ]]\n",
      "\n",
      "\n",
      "\u001b[31mUser message:\u001b[0m\n",
      "\n",
      "[[ ## text ## ]]\n",
      "sunter acquisition begins tender for allegheny international inc\n",
      "\n",
      "Respond with the corresponding output fields, starting with the field `label`, and then ending with the marker for `completed`.\n",
      "\n",
      "\n",
      "\u001b[31mAssistant message:\u001b[0m\n",
      "\n",
      "[[ ## label ## ]]\n",
      "acq\n",
      "\n",
      "[[ ## completed ## ]]\n",
      "\n",
      "\n",
      "\u001b[31mUser message:\u001b[0m\n",
      "\n",
      "[[ ## text ## ]]\n",
      "lyng says too late for crop decoupling this year u s agriculture secretary richard lyng said it is too late to implement a full acreage provision or decoupling for grain crops i think there s a chance we ll see that legislation passed but not for crops it s too late lyng told the national grain and feed association convention here lyng added that there seems some support in congress for and there was a good chance a pilot program will be passed as part of a pending disaster bill but he indicated that it is already too late in the year to alter the crop program sign up for spring crops closes the end of this month overall lyng predicted very little change will be legislated in the farm bill this year reuter\n",
      "\n",
      "Respond with the corresponding output fields, starting with the field `label`, and then ending with the marker for `completed`.\n",
      "\n",
      "\n",
      "\u001b[31mAssistant message:\u001b[0m\n",
      "\n",
      "[[ ## label ## ]]\n",
      "grain\n",
      "\n",
      "[[ ## completed ## ]]\n",
      "\n",
      "\n",
      "\u001b[31mUser message:\u001b[0m\n",
      "\n",
      "[[ ## text ## ]]\n",
      "crude oil netbacks up in u s mediterranean crude oil netback values in complex refineries rose slightly in the u s and the mediterranean last friday from the previous week but were lower elsewhere according to calculations by reuters pipeline the soft tone to refining margins reflects large worldwide stocks of petroleum products and thin trading activity traders said in the u s gulf sweet crudes rose in value by as much as cts a barrel for west texas intermediate an increase of pct from the previous friday while sour crudes such as alaska north slope were up one pct in the mediterranean netback values were up cts to cts a barrel with arab light up cts a barrel to dlrs a pct increase from the previous friday and urals were up cts a barrel to dlrs a pct increase but netbacks for crude oil refined in northern europe was generally lower with brent valued at dlrs off cts from the previous friday and bonny light was off cts to dlrs a barrel refinery netbacks in singapore were also lower with heavier and sour crudes weakest arab heavy dropped cts to dlrs a barrel and dubai was off cts to dlrs on the u s west coast however netback values for ans cif l a were weaker with weak gasoline prices sending the yield at cracking plants down cts to dlrs from the previous friday as shown below in dlrs a barrel topping cracking the mediterranean region also showed netback values rising last friday over the previous week with the largest gains shown by es sider and the heavier urals crude oil which were each up cts a barrel last friday to dlrs and dlrs a barrel respectively netback values for the mediterranean region are shown below in dlrs a barrel grade mar mar feb es sider arab light iran lt kuwait urals cif netbacks in northern europe s refinery region were lower last friday from the previous week with brent falling pct to dlrs a barrel netbacks for other grades of oil refined in northern europe are shown below in dlrs a barrel mar mar feb brent bonny light arab light urals cif refinery netbacks in singapore were also lower with heavier and sour crudes weakest arab heavy dropped cts to dlrs a barrel and dubai was off cts to dlrs netbacks for other grades of oil refined in singapore are shown below in dlrs a barrel grade mar mar feb attaka arab light oman dubai arab heavy reuter\n",
      "\n",
      "Respond with the corresponding output fields, starting with the field `label`, and then ending with the marker for `completed`.\n",
      "\n",
      "\n",
      "\u001b[31mAssistant message:\u001b[0m\n",
      "\n",
      "[[ ## label ## ]]\n",
      "crude\n",
      "\n",
      "[[ ## completed ## ]]\n",
      "\n",
      "\n",
      "\u001b[31mUser message:\u001b[0m\n",
      "\n",
      "[[ ## text ## ]]\n",
      "japan line selling tankers and bulkers major tanker operator japan line ltd jlit t is selling vlccs and several bulk carriers for scrap or further trading industry sources said the tanker disposals include japan orchid dwt japan lupinus dwt sovereign dwt rosebay dwt saffron dwt and cattleya dwt all of which have been reported on the london sale and purchase market they said but refused to give further details japan line officials declined to comment reuter\n",
      "\n",
      "Respond with the corresponding output fields, starting with the field `label`, and then ending with the marker for `completed`.\n",
      "\n",
      "\n",
      "\u001b[31mAssistant message:\u001b[0m\n",
      "\n",
      "[[ ## label ## ]]\n",
      "ship\n",
      "\n",
      "[[ ## completed ## ]]\n",
      "\n",
      "\n",
      "\u001b[31mUser message:\u001b[0m\n",
      "\n",
      "[[ ## text ## ]]\n",
      "u s urges banks to weigh philippine debt plan the u s is urging reluctant commercial banks to seriously consider accepting a novel philippine proposal for paying its interest bill and believes the innovation is fully consistent with its third world debt strategy a reagan administration official said the official s comments also suggest that debtors pleas for interest rate concessions should be treated much more seriously by the commercial banks in cases where developing nations are carrying out genuine economic reforms in addition he signaled that the banks might want to reconsider the idea of a megabank where third world debt would be pooled and suggested the administration would support such a plan even though it was not formally proposing it at the same time however the official expressed reservations that such a scheme would ever get off the ground the philippine proposal together with argentine suggestions that exit bonds be issued to end the troublesome role of small banks in the debt strategy would help to underpin the flagging role of private banks within the plan the official said in an interview with reuters all of these things would fit within the definition of our initiative as we have asked it and we think any novel and unique approach such as those should be considered said the official who asked not to be named in october washington outlined a debt crisis strategy under which commercial banks and multilateral institutions such as the world bank and the international monetary fund imf were urged to step up lending to major debtors nations in return america called on the debtor countries to enact economic reforms promoting inflation free economic growth the multilaterals have been performing well the debtors have been performing well said the official but he admitted that the largest third world debtor brazil was clearly an exception the official who played a key role in developing the u s debt strategy and is an administration economic policymaker also said these new ideas would help commercial banks improve their role in resolving the third world debt crisis we called at the very beginning for the bank syndications to find procedures or processes whereby they could operate more effectively the official said among those ideas the official said were suggestions that commercial banks create a megabank which could swap third world debt paper for so called exit bonds for banks like regional american or european institutions such bonds in theory would rid these banks of the need to lend money to their former debtors every time a new money package was assembled and has been suggested by argentina in its current negotiations for a new loan of billion dlrs he emphasised that the megabank was not an administration plan but something some people have suggested other u s officials said japanese commercial banks are examining the creation of a consortium bank to assume third world debt this plan actively under consideration would differ slightly from the one the official described but the official expressed deep misgivings that such a plan would work in the united states if the banks thought that that was a suitable way to go fine i don t think they ever will he pointed out that banks would swap their third world loans for capital in the megabank and might then be reluctant to provide new money to debtors through the new institution meanwhile the official praised the philippine plan under which it would make interest payments on its debt in cash at no more than pct above libor the philippine proposal is very interesting it s quite unique and i don t think it s something that should be categorically rejected out of hand the official said banks which found this level unacceptably low would be offered an alternative of libor payments in cash and a margin above that of one pct in the form of philippine investment notes these tradeable dollar denominated notes would have a six year life and if banks swapped them for cash before maturity the country would guarantee a payment of point over libor until now bankers have criticised these spreads as far too low the talks now in their second week are aimed at stretching out repayments of billion dlrs of debt and granting easier terms on billion of already rescheduled debt the country which has enjoyed strong political support in washington since corazon aquino came to power early last year owes an overall billion dlrs of debt but the official denied the plan amounts to interest rate capitalisation a development until now unacceptable to the banks it s no more interest rate capitalisation than if you have a write down in the spread over libor from what existed before the official said in comments suggesting some ought to be granted the rate concessions they seek some people argue that cutting the spread is debt forgiveness what it really is is narrowing the spread on new money he added he said the u s debt strategy is sufficiently broad as an initiative to include plans like the philippines reuter\n",
      "\n",
      "Respond with the corresponding output fields, starting with the field `label`, and then ending with the marker for `completed`.\n",
      "\n",
      "\n",
      "\u001b[31mAssistant message:\u001b[0m\n",
      "\n",
      "[[ ## label ## ]]\n",
      "interest\n",
      "\n",
      "[[ ## completed ## ]]\n",
      "\n",
      "\n",
      "\u001b[31mUser message:\u001b[0m\n",
      "\n",
      "[[ ## text ## ]]\n",
      "rostenkowski says he will oppose protectionist trade bill in u s house\n",
      "\n",
      "Respond with the corresponding output fields, starting with the field `label`, and then ending with the marker for `completed`.\n",
      "\n",
      "\n",
      "\u001b[31mAssistant message:\u001b[0m\n",
      "\n",
      "[[ ## label ## ]]\n",
      "trade\n",
      "\n",
      "[[ ## completed ## ]]\n",
      "\n",
      "\n",
      "\u001b[31mUser message:\u001b[0m\n",
      "\n",
      "[[ ## text ## ]]\n",
      "bankers trust co raises broker loan rate bankers trust co said it raised its broker loan rate to pct from seven pct effective immediately u s trust co which also quotes its broker loan rate publicly is posting a pct rate reuter\n",
      "\n",
      "Respond with the corresponding output fields, starting with the field `label`, and then ending with the marker for `completed`.\n",
      "\n",
      "\n",
      "\u001b[31mAssistant message:\u001b[0m\n",
      "\n",
      "[[ ## label ## ]]\n",
      "interest\n",
      "\n",
      "[[ ## completed ## ]]\n",
      "\n",
      "\n",
      "\u001b[31mUser message:\u001b[0m\n",
      "\n",
      "[[ ## text ## ]]\n",
      "iran says it intends no threat to gulf shipping iran said reports that it intended to threaten shipping in the gulf were baseless and warned the u s and other countries not to interfere in the region tehran radio monitored by the bbc quoted a foreign ministry spokesman as saying any attempt at interference would be met by a strong response from iran and other moslems in the world u s defence secretary caspar weinberger in remarks apparently unrelated to the broadcast said the u s would do whatever was necessary to keep shipping lanes open in the face of new iranian anti ship missiles in the gulf the u s state department said two days ago tehran had been told of u s concern that iranian anti ship missiles posed a threat to the free flow of oil from the gulf u s officials have said iran has new chinese made anti ship silkworm missiles which pose a greater threat to merchant ships than missiles used before the iranian spokesman said the reports that iran intended to attack ships were misleading propaganda he said iraq s president saddam hussein was the main cause of tension in the gulf and said iran would continue to use all its legitimate means to stem the cause of tension weinberger said in a television interview in the u s we are fully prepared to do what s necessary to keep the shipping going and keep the freedom of navigation available in that very vital waterway we aren t going into any disclosures or discussions of what might happen but we are certainly very sympathetic to and listening carefully to any suggestions for our assistance in keeping navigation free in that area he said weinberger said u s warship movements in the gulf area were not unusual a u s navy battle group led by the aircraft carrier kitty hawk is currently in the northern arabian sea the iranian spokesman was quoted by tehran radio as saying the u s was trying to build up its military presence in the region reuter\n",
      "\n",
      "Respond with the corresponding output fields, starting with the field `label`, and then ending with the marker for `completed`.\n",
      "\n",
      "\n",
      "\u001b[31mAssistant message:\u001b[0m\n",
      "\n",
      "[[ ## label ## ]]\n",
      "ship\n",
      "\n",
      "[[ ## completed ## ]]\n",
      "\n",
      "\n",
      "\u001b[31mUser message:\u001b[0m\n",
      "\n",
      "[[ ## text ## ]]\n",
      "treasury s baker pursuing s asian revaluations treasury secretary james baker told the house appropriations committee the united states is still pressing newly industrialized south asian nations that have tied their currencies to the dollar to let those currencies strengthen against the dollar we have seen some strengthening of those currencies but not as much as we would like he said we have been somewhat disappointed in the results so far but we intend to continue these discussions he said reuter\n",
      "\n",
      "Respond with the corresponding output fields, starting with the field `label`, and then ending with the marker for `completed`.\n",
      "\n",
      "\n",
      "\u001b[31mAssistant message:\u001b[0m\n",
      "\n",
      "[[ ## label ## ]]\n",
      "money-fx\n",
      "\n",
      "[[ ## completed ## ]]\n",
      "\n",
      "\n",
      "\u001b[31mUser message:\u001b[0m\n",
      "\n",
      "[[ ## text ## ]]\n",
      "miyazawa sees big nations reaffirming paris pact finance minister kiichi miyazawa told a parliamentary committee he expects major nations to reafffirm the currency pact they struck in paris when they meet this week in washington political sources said the minister also was quoted as saying he expects major nations to take coordinated action to ensure exchange rate stability finance ministry officials were unavailable for immediate comment in paris on february six nations britain canada france japan the u s and west germany pledged to cooperate to hold their currencies stable reuter\n",
      "\n",
      "Respond with the corresponding output fields, starting with the field `label`, and then ending with the marker for `completed`.\n",
      "\n",
      "\n",
      "\u001b[31mAssistant message:\u001b[0m\n",
      "\n",
      "[[ ## label ## ]]\n",
      "money-fx\n",
      "\n",
      "[[ ## completed ## ]]\n",
      "\n",
      "\n",
      "\u001b[31mUser message:\u001b[0m\n",
      "\n",
      "[[ ## text ## ]]\n",
      "u s urges banks to weigh philippine debt plan the u s is urging reluctant commercial banks to seriously consider accepting a novel philippine proposal for paying its interest bill and believes the innovation is fully consistent with its third world debt strategy a reagan administration official said the official s comments also suggest that debtors pleas for interest rate concessions should be treated much more seriously by the commercial banks in cases where developing nations are carrying out genuine economic reforms in addition he signaled that the banks might want to reconsider the idea of a megabank where third world debt would be pooled and suggested the administration would support such a plan even though it was not formally proposing it at the same time however the official expressed reservations that such a scheme would ever get off the ground the philippine proposal together with argentine suggestions that exit bonds be issued to end the troublesome role of small banks in the debt strategy would help to underpin the flagging role of private banks within the plan the official said in an interview with reuters all of these things would fit within the definition of our initiative as we have asked it and we think any novel and unique approach such as those should be considered said the official who asked not to be named in october washington outlined a debt crisis strategy under which commercial banks and multilateral institutions such as the world bank and the international monetary fund imf were urged to step up lending to major debtors nations in return america called on the debtor countries to enact economic reforms promoting inflation free economic growth the multilaterals have been performing well the debtors have been performing well said the official but he admitted that the largest third world debtor brazil was clearly an exception the official who played a key role in developing the u s debt strategy and is an administration economic policymaker also said these new ideas would help commercial banks improve their role in resolving the third world debt crisis we called at the very beginning for the bank syndications to find procedures or processes whereby they could operate more effectively the official said among those ideas the official said were suggestions that commercial banks create a megabank which could swap third world debt paper for so called exit bonds for banks like regional american or european institutions such bonds in theory would rid these banks of the need to lend money to their former debtors every time a new money package was assembled and has been suggested by argentina in its current negotiations for a new loan of billion dlrs he emphasised that the megabank was not an administration plan but something some people have suggested other u s officials said japanese commercial banks are examining the creation of a consortium bank to assume third world debt this plan actively under consideration would differ slightly from the one the official described but the official expressed deep misgivings that such a plan would work in the united states if the banks thought that that was a suitable way to go fine i don t think they ever will he pointed out that banks would swap their third world loans for capital in the megabank and might then be reluctant to provide new money to debtors through the new institution meanwhile the official praised the philippine plan under which it would make interest payments on its debt in cash at no more than pct above libor the philippine proposal is very interesting it s quite unique and i don t think it s something that should be categorically rejected out of hand the official said banks which found this level unacceptably low would be offered an alternative of libor payments in cash and a margin above that of one pct in the form of philippine investment notes these tradeable dollar denominated notes would have a six year life and if banks swapped them for cash before maturity the country would guarantee a payment of point over libor until now bankers have criticised these spreads as far too low the talks now in their second week are aimed at stretching out repayments of billion dlrs of debt and granting easier terms on billion of already rescheduled debt the country which has enjoyed strong political support in washington since corazon aquino came to power early last year owes an overall billion dlrs of debt but the official denied the plan amounts to interest rate capitalisation a development until now unacceptable to the banks it s no more interest rate capitalisation than if you have a write down in the spread over libor from what existed before the official said in comments suggesting some ought to be granted the rate concessions they seek some people argue that cutting the spread is debt forgiveness what it really is is narrowing the spread on new money he added he said the u s debt strategy is sufficiently broad as an initiative to include plans like the philippines reuter\n",
      "\n",
      "Respond with the corresponding output fields, starting with the field `label`, and then ending with the marker for `completed`.\n",
      "\n",
      "\n",
      "\u001b[31mResponse:\u001b[0m\n",
      "\n",
      "\u001b[32m[[ ## label ## ]]\n",
      "interest\n",
      "\n",
      "[[ ## completed ## ]]\u001b[0m\n",
      "\n",
      "\n",
      "\n",
      "\n",
      "\n"
     ]
    }
   ],
   "source": [
    "lm.inspect_history(n=1)"
   ]
  },
  {
   "cell_type": "markdown",
   "metadata": {
    "application/vnd.databricks.v1+cell": {
     "cellMetadata": {
      "byteLimit": 2048000,
      "rowLimit": 10000
     },
     "inputWidgets": {},
     "nuid": "6f09466f-b929-4ebf-adfd-01c9387d3c8a",
     "showTitle": false,
     "title": ""
    }
   },
   "source": [
    "## 2.2 - Compare Pre/Post Compiled Accuracy\n",
    "\n",
    "Finally, let's explore how well our trained model can predict on unseen test data. "
   ]
  },
  {
   "cell_type": "code",
   "execution_count": 12,
   "metadata": {
    "application/vnd.databricks.v1+cell": {
     "cellMetadata": {
      "byteLimit": 2048000,
      "rowLimit": 10000
     },
     "inputWidgets": {},
     "nuid": "c075af7e-b15d-4adb-ab2a-e65bbdc38069",
     "showTitle": false,
     "title": ""
    }
   },
   "outputs": [
    {
     "name": "stdout",
     "output_type": "stream",
     "text": [
      "Uncompiled accuracy: 0.0\n",
      "Compiled accuracy: 0.75\n"
     ]
    }
   ],
   "source": [
    "def check_accuracy(classifier, test_data: pd.DataFrame = test_dataset) -> float:\n",
    "    residuals = []\n",
    "    predictions = []\n",
    "    for example in test_data:\n",
    "        prediction = classifier(text=example[\"text\"])\n",
    "        residuals.append(int(validate_classification(example, prediction)))\n",
    "        predictions.append(prediction)\n",
    "    return residuals, predictions\n",
    "\n",
    "\n",
    "uncompiled_residuals, uncompiled_predictions = check_accuracy(copy(TextClassifier()))\n",
    "print(f\"Uncompiled accuracy: {np.mean(uncompiled_residuals)}\")\n",
    "\n",
    "compiled_residuals, compiled_predictions = check_accuracy(compiled_pe)\n",
    "print(f\"Compiled accuracy: {np.mean(compiled_residuals)}\")"
   ]
  },
  {
   "cell_type": "markdown",
   "metadata": {
    "application/vnd.databricks.v1+cell": {
     "cellMetadata": {
      "byteLimit": 2048000,
      "rowLimit": 10000
     },
     "inputWidgets": {},
     "nuid": "0964ae5f-6dfe-4b52-8a91-b91d45f69b82",
     "showTitle": false,
     "title": ""
    }
   },
   "source": [
    "As shown above, our compiled accuracy, again as expected is 0 - our base LLM was not aware of the classification labels. However, with training alone, the prompts, demonstrations, and input/output signatures have been updated to prompt our model to reach 75% accuracy. "
   ]
  },
  {
   "cell_type": "code",
   "execution_count": 13,
   "metadata": {
    "application/vnd.databricks.v1+cell": {
     "cellMetadata": {
      "byteLimit": 2048000,
      "rowLimit": 10000
     },
     "inputWidgets": {},
     "nuid": "a9228b66-864b-49fb-838d-33c12e2ff8b4",
     "showTitle": false,
     "title": ""
    }
   },
   "outputs": [
    {
     "name": "stdout",
     "output_type": "stream",
     "text": [
      "Incorrect prediction:    finance\n",
      "Incorrect prediction:    international relations\n",
      "Incorrect prediction:    finance\n",
      "Incorrect prediction:    financial_report\n",
      "Incorrect prediction:    merger_news\n",
      "Incorrect prediction:    Agriculture\n",
      "Incorrect prediction:    trade relations\n",
      "Incorrect prediction:    Labor Strike\n"
     ]
    }
   ],
   "source": [
    "for uncompiled_residual, uncompiled_prediction in zip(uncompiled_residuals, uncompiled_predictions):\n",
    "    is_correct = \"Correct\" if bool(uncompiled_residual) else \"Incorrect\"\n",
    "    prediction = uncompiled_prediction.label\n",
    "    print(f\"{is_correct} prediction: {' ' * (12 - len(is_correct))}{prediction}\")"
   ]
  },
  {
   "cell_type": "code",
   "execution_count": 14,
   "metadata": {
    "application/vnd.databricks.v1+cell": {
     "cellMetadata": {
      "byteLimit": 2048000,
      "rowLimit": 10000
     },
     "inputWidgets": {},
     "nuid": "e93c1b68-a95e-436e-9c0d-54b2b3e34f6f",
     "showTitle": false,
     "title": ""
    }
   },
   "outputs": [
    {
     "name": "stdout",
     "output_type": "stream",
     "text": [
      "Correct prediction:      interest\n",
      "Incorrect prediction:    politics\n",
      "Correct prediction:      money-fx\n",
      "Correct prediction:      earn\n",
      "Correct prediction:      acq\n",
      "Correct prediction:      grain\n",
      "Correct prediction:      trade\n",
      "Incorrect prediction:    strike\n"
     ]
    }
   ],
   "source": [
    "for compiled_residual, compiled_prediction in zip(compiled_residuals, compiled_predictions):\n",
    "    is_correct = \"Correct\" if bool(compiled_residual) else \"Incorrect\"\n",
    "    prediction = compiled_prediction.label\n",
    "    print(f\"{is_correct} prediction: {' ' * (12 - len(is_correct))}{prediction}\")"
   ]
  },
  {
   "cell_type": "markdown",
   "metadata": {
    "application/vnd.databricks.v1+cell": {
     "cellMetadata": {
      "byteLimit": 2048000,
      "rowLimit": 10000
     },
     "inputWidgets": {},
     "nuid": "73351663-ed84-4e29-8bf5-61fbf94da937",
     "showTitle": false,
     "title": ""
    }
   },
   "source": [
    "# 3 - Load and Load out Model with MLflow\n",
    "\n",
    "Now that we have a compiled model with higher classification accuracy, let's leverage MLflow to log this model and load it for inference."
   ]
  },
  {
   "cell_type": "code",
   "execution_count": 15,
   "metadata": {},
   "outputs": [
    {
     "name": "stderr",
     "output_type": "stream",
     "text": [
      "Downloading artifacts: 100%|██████████| 7/7 [00:00<00:00, 2039.04it/s] \n"
     ]
    }
   ],
   "source": [
    "import mlflow\n",
    "from mlflow.models import ModelSignature\n",
    "from mlflow.types.schema import ColSpec, Schema\n",
    "\n",
    "input_schema = Schema([ColSpec(\"string\")])\n",
    "output_schema = Schema([ColSpec(\"string\")])\n",
    "signature = ModelSignature(inputs=input_schema, outputs=output_schema)\n",
    "\n",
    "with mlflow.start_run():\n",
    "    model_info = mlflow.dspy.log_model(\n",
    "        compiled_pe,\n",
    "        \"model\",\n",
    "        input_example=\"what is 2 + 2?\",\n",
    "        signature=signature,\n",
    "    )"
   ]
  },
  {
   "cell_type": "code",
   "execution_count": 30,
   "metadata": {},
   "outputs": [
    {
     "name": "stdout",
     "output_type": "stream",
     "text": [
      "\n",
      "==============Input Text============\n",
      "Text: tokyo bundesbank s schlesinger sees no reason to lower interest rates\n",
      "\n",
      "--------------Original DSPy Prediction------------\n",
      "interest\n",
      "\n",
      "--------------Loaded DSPy Prediction------------\n",
      "interest\n",
      "\n",
      "--------------PyFunc Prediction------------\n",
      "interest\n"
     ]
    }
   ],
   "source": [
    "# Define input text\n",
    "print(\"\\n==============Input Text============\")\n",
    "text = test_dataset[0][\"text\"]\n",
    "print(f\"Text: {text}\")\n",
    "\n",
    "# Inference with original DSPy object\n",
    "print(\"\\n--------------Original DSPy Prediction------------\")\n",
    "print(compiled_pe(text=text).label)\n",
    "\n",
    "# Inference with loaded DSPy object\n",
    "print(\"\\n--------------Loaded DSPy Prediction------------\")\n",
    "loaded_model_dspy = mlflow.dspy.load_model(model_info.model_uri)\n",
    "print(loaded_model_dspy(text=text).label)\n",
    "\n",
    "# Inference with MLflow PyFunc API\n",
    "loaded_model_pyfunc = mlflow.pyfunc.load_model(model_info.model_uri)\n",
    "print(\"\\n--------------PyFunc Prediction------------\")\n",
    "print(loaded_model_pyfunc.predict(text)[\"label\"])"
   ]
  },
  {
   "cell_type": "markdown",
   "metadata": {
    "application/vnd.databricks.v1+cell": {
     "cellMetadata": {
      "byteLimit": 2048000,
      "rowLimit": 10000
     },
     "inputWidgets": {},
     "nuid": "09199461-878a-4b9f-9eb0-8803775a6cc5",
     "showTitle": false,
     "title": ""
    }
   },
   "source": [
    "# 4 - Next Steps\n",
    "\n",
    "This example demonstrates how DSPy works. Below are some potential extensions for improving this project, both with DSPy and MLflow.\n",
    "\n",
    "### 4.1 - DSPy\n",
    "* Use real-world data for the classifier.\n",
    "* Pass labels directly to `dspy.Signature` rather than inferring them during training.\n",
    "* Experiment with different optimizers.\n",
    "* For more in-depth examples, check out the [tutorials](https://dspy-docs.vercel.app/docs/category/tutorials) and [documentation](https://dspy-docs.vercel.app/docs/intro).\n",
    "\n",
    "### 4.2 - MLflow\n",
    "* Deploy the model using MLflow serving.\n",
    "* Use MLflow to experiment with various optimization strategies.\n",
    "\n",
    "Happy coding!"
   ]
  }
 ],
 "metadata": {
  "application/vnd.databricks.v1+notebook": {
   "dashboards": [],
   "environmentMetadata": {
    "base_environment": "",
    "client": "1"
   },
   "language": "python",
   "notebookMetadata": {
    "pythonIndentUnit": 2
   },
   "notebookName": "Simple DSPy Classifier OSS",
   "widgets": {}
  },
  "kernelspec": {
   "display_name": "scratch-3.9",
   "language": "python",
   "name": "python3"
  },
  "language_info": {
   "codemirror_mode": {
    "name": "ipython",
    "version": 3
   },
   "file_extension": ".py",
   "mimetype": "text/x-python",
   "name": "python",
   "nbconvert_exporter": "python",
   "pygments_lexer": "ipython3",
   "version": "3.9.0"
  }
 },
 "nbformat": 4,
 "nbformat_minor": 0
}
